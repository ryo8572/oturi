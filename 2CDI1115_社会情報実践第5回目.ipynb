{
  "nbformat": 4,
  "nbformat_minor": 0,
  "metadata": {
    "colab": {
      "provenance": []
    },
    "kernelspec": {
      "name": "python3",
      "display_name": "Python 3"
    },
    "language_info": {
      "name": "python"
    }
  },
  "cells": [
    {
      "cell_type": "code",
      "source": [
        "def coin_count(amount , price):\n",
        "  coins=[500,100,50,10]\n",
        "  change = amount - price\n",
        "\n",
        "  if change < 0:\n",
        "    print(f\"支払う金額が{abs(change)}円足りません\")\n",
        "    return\n",
        "\n",
        "  print(f\"お釣りは{change}円です\")\n",
        "  coin_sum = {}\n",
        "\n",
        "  for coin in coins:\n",
        "    coin_sum[coin] = change // coin\n",
        "    change %= coin\n",
        "\n",
        "  for coin , count in coin_sum.items():\n",
        "    if count > 0:\n",
        "      print(f\"{coin}円の硬貨が{count}枚です\")\n",
        "\n",
        "  if count > 0:\n",
        "    print(f\"お釣りは{change}円ですが、出すことができません\")\n",
        "\n",
        "try:\n",
        "  amount = int(input(\"支払う金額を入力してください :\"))\n",
        "  price = int(input(\"商品の金額を入力してください :\"))\n",
        "  coin_count(price , amount)\n",
        "except ValueError:\n",
        "  print(\"数値を入力してください\")"
      ],
      "metadata": {
        "colab": {
          "base_uri": "https://localhost:8080/"
        },
        "id": "MBIMlLIv-sFZ",
        "outputId": "2d54f608-8e6d-44bf-a26b-ac1960440b68"
      },
      "execution_count": 9,
      "outputs": [
        {
          "output_type": "stream",
          "name": "stdout",
          "text": [
            "支払う金額を入力してください :31321\n",
            "商品の金額を入力してください :423152146\n",
            "お釣りは423120825円です\n",
            "500円の硬貨が846241枚です\n",
            "100円の硬貨が3枚です\n",
            "10円の硬貨が2枚です\n",
            "お釣りは5円ですが、出すことができません\n"
          ]
        }
      ]
    },
    {
      "cell_type": "code",
      "source": [],
      "metadata": {
        "id": "imOt_JObJqAC"
      },
      "execution_count": null,
      "outputs": []
    }
  ]
}